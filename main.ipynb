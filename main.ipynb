{
 "cells": [
  {
   "cell_type": "code",
   "execution_count": null,
   "metadata": {},
   "outputs": [],
   "source": [
    "import pandas as pd\n",
    "import numpy as np\n",
    "import os\n",
    "\n",
    "from data_preprocessing import encode_categorical_features\n",
    "# from sampling import create_train_test_sets, create_stratified_kfolds\n",
    "from sklearn.model_selection import StratifiedKFold\n",
    "\n",
    "from sklearn.preprocessing import StandardScaler\n",
    "from sklearn.feature_selection import SelectKBest, RFE, SelectFromModel, f_classif\n",
    "\n",
    "from sklearn.linear_model import LogisticRegression\n",
    "from sklearn.tree import DecisionTreeClassifier\n",
    "from sklearn.ensemble import RandomForestClassifier\n",
    "from sklearn.svm import SVC\n",
    "from sklearn.neighbors import KNeighborsClassifier\n",
    "from sklearn.naive_bayes import GaussianNB\n",
    "\n",
    "from catboost import CatBoostClassifier\n",
    "from xgboost import XGBClassifier\n",
    "from lightgbm import LGBMClassifier\n",
    "\n",
    "from sklearn.metrics import confusion_matrix, classification_report, accuracy_score, precision_score, recall_score, f1_score, \\\n",
    "    matthews_corrcoef, mean_squared_error, r2_score, roc_auc_score, roc_curve, auc\n",
    "from math import sqrt"
   ]
  },
  {
   "cell_type": "code",
   "execution_count": null,
   "metadata": {},
   "outputs": [],
   "source": [
    "# notebook parameters\n",
    "input_dataset_path = 'data/heart_disease_health_indicators_BRFSS2015.csv'\n",
    "target_col = 'HeartDiseaseorAttack'\n",
    "n_splits = 5\n",
    "k_best_features = 10"
   ]
  },
  {
   "cell_type": "code",
   "execution_count": null,
   "metadata": {},
   "outputs": [],
   "source": [
    "def calculate_metrics(y_pred: np.array, y_test: pd.Series):\n",
    "    \"\"\" Calculate model quality metrics based on \n",
    "        expected label values from testing dataset (y_test) and predicted values.\n",
    "    \"\"\"\n",
    "    tn, fp, fn, tp = calculate_test_results_from_confusion_matrix(y_test, y_pred)\n",
    "    model_precision = precision_score(y_test, y_pred)\n",
    "    model_recall = recall_score(y_test, y_pred) # sensitivity\n",
    "    model_specificity = specificity_score(tn, fp)\n",
    "    model_acc = accuracy_score(y_test, y_pred)\n",
    "    \n",
    "    model_f1_score = f1_score(y_test, y_pred)\n",
    "    model_mcc = matthews_corrcoef(y_test, y_pred)\n",
    "    rmse = sqrt(mean_squared_error(y_test, y_pred))\n",
    "    model_r2 = r2_score(y_test, y_pred)\n",
    "    roc_auc = roc_auc_score(y_test, y_pred)\n",
    "    # model_classification_report = classification_report(y_test, y_pred)\n",
    "\n",
    "    model_scores = {\n",
    "        'True Negative': tn,\n",
    "        'False Positive': fp,\n",
    "        'False Negative': fn,\n",
    "        'True Positive': tp,\n",
    "        'Precision (PPV)': model_precision,\n",
    "        'Sensitivity (TPR, Recall)': model_specificity,\n",
    "        'Accuracy': model_acc,\n",
    "        'F1 Score': model_f1_score,\n",
    "        'RMSE': rmse,\n",
    "        'R Squared': model_r2,\n",
    "        'Matthews Correlation Coefficient (MCC)': model_mcc,\n",
    "        'ROC AUC score': roc_auc\n",
    "    }\n",
    "\n",
    "    return model_scores\n",
    "\n",
    "def calculate_test_results_from_confusion_matrix(y_test: pd.DataFrame, y_pred: pd.DataFrame):\n",
    "    \"\"\" Calculate the confusion matrix and extract TP, FP, TN, FN from that matrix \"\"\"\n",
    "    conf_matrix = confusion_matrix(y_test, y_pred)\n",
    "    tn, fp, fn, tp = conf_matrix.ravel()\n",
    "\n",
    "    return tn, fp, fn, tp\n",
    "\n",
    "def specificity_score(tn: float, fp: float):\n",
    "    return tn / (tn + fp)"
   ]
  },
  {
   "cell_type": "markdown",
   "metadata": {},
   "source": [
    "### Loading dataset"
   ]
  },
  {
   "cell_type": "code",
   "execution_count": null,
   "metadata": {},
   "outputs": [],
   "source": [
    "heart_df = pd.read_csv(input_dataset_path)\n",
    "heart_df[target_col] = heart_df[target_col].astype(int)\n",
    "heart_df.head()"
   ]
  },
  {
   "cell_type": "code",
   "execution_count": null,
   "metadata": {},
   "outputs": [],
   "source": [
    "# general dataset descriptors\n",
    "print(f\"Input dataset has {heart_df.shape[0]} rows and {heart_df.shape[1]} colums\")\n",
    "print(f\"Input dataset consists of {heart_df.drop(columns=[target_col]).shape[1]} features and 1 target column\")\n",
    "\n",
    "print(f\"Target values are: {heart_df[target_col].unique()}\")\n",
    "print(f\"Input dataset contains {heart_df[heart_df.duplicated()].shape[0]} duplicated rows and {heart_df[heart_df.duplicated()==False].shape[0]} unique rows\")"
   ]
  },
  {
   "cell_type": "code",
   "execution_count": null,
   "metadata": {},
   "outputs": [],
   "source": [
    "heart_df.info()"
   ]
  },
  {
   "cell_type": "markdown",
   "metadata": {},
   "source": [
    "### Data preprocessing"
   ]
  },
  {
   "cell_type": "code",
   "execution_count": null,
   "metadata": {},
   "outputs": [],
   "source": [
    "# delete all duplicated values within the dataset\n",
    "heart_df.drop_duplicates(inplace=True)"
   ]
  },
  {
   "cell_type": "code",
   "execution_count": null,
   "metadata": {},
   "outputs": [],
   "source": [
    "# encode categorical features using LabelEncoder and OneHotEncoding\n",
    "heart_df = encode_categorical_features(heart_df, target_col)"
   ]
  },
  {
   "cell_type": "code",
   "execution_count": null,
   "metadata": {},
   "outputs": [],
   "source": [
    "# divide a heart failure dataset into features and target value sets\n",
    "x = heart_df.drop(columns=[target_col])\n",
    "y = heart_df[target_col]"
   ]
  },
  {
   "cell_type": "markdown",
   "metadata": {},
   "source": [
    "### Data stratified sampling"
   ]
  },
  {
   "cell_type": "code",
   "execution_count": null,
   "metadata": {},
   "outputs": [],
   "source": [
    "# Stratified sampling into 5 folds\n",
    "k_fold = StratifiedKFold(n_splits=n_splits, shuffle=True, random_state=42)\n",
    "\n",
    "# some models are sensitive for feature value scale differences\n",
    "# StandardScaler is used to transform those values into rescaled format, without information loss\n",
    "\n",
    "# Create an instance of StandardScaler\n",
    "scaler = StandardScaler()\n",
    "\n",
    "# Initialize an empty dict to store model performance results for separate folds\n",
    "folds_results = {}"
   ]
  },
  {
   "cell_type": "code",
   "execution_count": null,
   "metadata": {},
   "outputs": [],
   "source": [
    "models = {\n",
    "    'Random Forest': RandomForestClassifier(n_estimators=100, random_state=42),\n",
    "    'Decision Tree': DecisionTreeClassifier(random_state=11, criterion='entropy'),\n",
    "    'Pruning Decision Tree': DecisionTreeClassifier(random_state=11, ccp_alpha=0.02, criterion='entropy'),\n",
    "    'Logistic Regression': LogisticRegression(random_state=0, C=10, penalty='l2'),\n",
    "    'Support Vector Machine': SVC(kernel='linear', C=0.3),\n",
    "    'K Nearest Neighbours': KNeighborsClassifier(leaf_size=1, n_neighbors=3),\n",
    "    'Gaussina Naive Bayes': GaussianNB(),\n",
    "    'XGBoost Classifier': XGBClassifier(n_estimators=2, max_depth=2, learning_rate=1, objective='binary:logistic')\n",
    "    # ,'CatBoost Classifier': CatBoostClassifier(verbose=False)\n",
    "}"
   ]
  },
  {
   "cell_type": "code",
   "execution_count": null,
   "metadata": {},
   "outputs": [],
   "source": [
    "# for fold_num, (train_idx, test_idx) in enumerate(k_fold.split(x, y), 1):\n",
    "#     train_data = heart_df.iloc[train_idx]\n",
    "#     test_data = heart_df.iloc[test_idx]\n",
    "\n",
    "#     # Standardize features using StandardScaler\n",
    "#     X_train_scaled = scaler.fit_transform(train_data.drop(target_col, axis=1))\n",
    "#     X_test_scaled = scaler.transform(test_data.drop(target_col, axis=1))\n",
    "\n",
    "#     # Feature Selection (e.g., using SelectKBest with ANOVA F-statistic)\n",
    "#     # Replace 'k' with the number of features you want to select\n",
    "#     selector = SelectKBest(score_func=f_classif, k=k_best_features)\n",
    "#     X_train_selected = selector.fit_transform(X_train_scaled, train_data[target_col])\n",
    "#     X_test_selected = selector.transform(X_test_scaled)\n",
    "\n",
    "#     models_results_dict = {}\n",
    "#     # Model Building\n",
    "#     for model_name, model in models.items():\n",
    "#         # train model\n",
    "#         model.fit(X_train_selected, train_data[target_col])\n",
    "\n",
    "#         # Model Evaluation (e.g., accuracy score)\n",
    "#         y_pred = model.predict(X_test_selected)\n",
    "#         accuracy = accuracy_score(test_data[target_col], y_pred)\n",
    "#         models_results_dict[model_name] = accuracy\n",
    "\n",
    "#     folds_results[fold_num] = models_results_dict"
   ]
  },
  {
   "cell_type": "code",
   "execution_count": null,
   "metadata": {},
   "outputs": [],
   "source": [
    "df = pd.DataFrame.from_dict(folds_results) \n",
    "df.to_csv('accuracy_results.csv', index=False, header=True)"
   ]
  },
  {
   "cell_type": "code",
   "execution_count": null,
   "metadata": {},
   "outputs": [],
   "source": [
    "import json\n",
    "with open('accuracy_results.json', 'w') as f:\n",
    "    json.dump(folds_results, f)"
   ]
  },
  {
   "cell_type": "code",
   "execution_count": null,
   "metadata": {},
   "outputs": [],
   "source": [
    "for fold_num, (train_idx, test_idx) in enumerate(k_fold.split(x, y), 1):\n",
    "    train_data = heart_df.iloc[train_idx]\n",
    "    test_data = heart_df.iloc[test_idx]\n",
    "\n",
    "    # Create a directory for the folds if it doesn't exist\n",
    "    if not os.path.exists('folds'):\n",
    "        os.makedirs('folds')\n",
    "\n",
    "    # Save each fold as a CSV file\n",
    "    train_data.to_csv(f'folds/fold_{fold_num}_train.csv', index=False)\n",
    "    test_data.to_csv(f'folds/fold_{fold_num}_test.csv', index=False)\n",
    "\n",
    "    # Standardize features using StandardScaler\n",
    "    X_train_scaled = scaler.fit_transform(train_data.drop(target_col, axis=1))\n",
    "    X_test_scaled = scaler.transform(test_data.drop(target_col, axis=1))\n",
    "\n",
    "    # Feature Selection (e.g., using SelectKBest with ANOVA F-statistic)\n",
    "    # Replace 'k' with the number of features you want to select\n",
    "    selector = SelectKBest(score_func=f_classif, k=k_best_features)\n",
    "    X_train_selected = selector.fit_transform(X_train_scaled, train_data[target_col])\n",
    "    X_test_selected = selector.transform(X_test_scaled)\n",
    "\n",
    "    models_results_dict = {}\n",
    "    # Model Building\n",
    "    for model_name, model in models.items():\n",
    "        # train model\n",
    "        model.fit(X_train_selected, train_data[target_col])\n",
    "\n",
    "        # Model Evaluation (e.g., accuracy score)\n",
    "        y_pred = model.predict(X_test_selected)\n",
    "        model_scores = calculate_metrics(y_test=test_data[target_col], y_pred=y_pred)\n",
    "        models_results_dict[model_name] = model_scores\n",
    "\n",
    "    folds_results[fold_num] = models_results_dict\n",
    "\n",
    "df_2 = pd.DataFrame.from_dict(folds_results) \n",
    "df_2.to_csv('model_evaluation_results.csv', index=False, header=True)"
   ]
  },
  {
   "cell_type": "code",
   "execution_count": null,
   "metadata": {},
   "outputs": [],
   "source": [
    "folds_results"
   ]
  },
  {
   "cell_type": "code",
   "execution_count": null,
   "metadata": {},
   "outputs": [],
   "source": []
  }
 ],
 "metadata": {
  "kernelspec": {
   "display_name": "magisterka",
   "language": "python",
   "name": "python3"
  },
  "language_info": {
   "codemirror_mode": {
    "name": "ipython",
    "version": 3
   },
   "file_extension": ".py",
   "mimetype": "text/x-python",
   "name": "python",
   "nbconvert_exporter": "python",
   "pygments_lexer": "ipython3",
   "version": "3.9.16"
  },
  "orig_nbformat": 4
 },
 "nbformat": 4,
 "nbformat_minor": 2
}
