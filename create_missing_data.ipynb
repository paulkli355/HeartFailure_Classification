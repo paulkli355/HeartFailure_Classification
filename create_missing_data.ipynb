{
 "cells": [
  {
   "cell_type": "code",
   "execution_count": 2,
   "metadata": {},
   "outputs": [],
   "source": [
    "import pandas as pd\n",
    "import numpy as np\n",
    "import random"
   ]
  },
  {
   "cell_type": "code",
   "execution_count": 68,
   "metadata": {},
   "outputs": [],
   "source": [
    "n_splits=10\n",
    "target_col = \"HeartDiseaseorAttack\"\n",
    "missing_sample_size = 0.15"
   ]
  },
  {
   "cell_type": "code",
   "execution_count": 69,
   "metadata": {},
   "outputs": [
    {
     "name": "stdout",
     "output_type": "stream",
     "text": [
      "Folds data were loaded successfully!\n"
     ]
    }
   ],
   "source": [
    "# Read folds that are available\n",
    "# Create empty lists to store train and test DataFrames\n",
    "train_datasets = []\n",
    "test_datasets = []\n",
    "\n",
    "for fold_num in range(1, n_splits+1):\n",
    "    train_file_path = f\"foldy/fold_{fold_num}_train.csv\"\n",
    "    test_file_path = f\"foldy/fold_{fold_num}_test.csv\"\n",
    "    \n",
    "    # Load the train and test fold data into DataFrames\n",
    "    train_fold = pd.read_csv(train_file_path)\n",
    "    test_fold = pd.read_csv(test_file_path)\n",
    "    \n",
    "    train_datasets.append(train_fold)\n",
    "    test_datasets.append(test_fold)\n",
    "print(\"Folds data were loaded successfully!\")"
   ]
  },
  {
   "cell_type": "code",
   "execution_count": 70,
   "metadata": {},
   "outputs": [
    {
     "name": "stdout",
     "output_type": "stream",
     "text": [
      "Fold 1 train: (206803, 22)\n",
      "Fold 1 test: (22978, 22)\n",
      "Fold 2 train: (206803, 22)\n",
      "Fold 2 test: (22978, 22)\n",
      "Fold 3 train: (206803, 22)\n",
      "Fold 3 test: (22978, 22)\n",
      "Fold 4 train: (206803, 22)\n",
      "Fold 4 test: (22978, 22)\n",
      "Fold 5 train: (206803, 22)\n",
      "Fold 5 test: (22978, 22)\n",
      "Fold 6 train: (206803, 22)\n",
      "Fold 6 test: (22978, 22)\n",
      "Fold 7 train: (206803, 22)\n",
      "Fold 7 test: (22978, 22)\n",
      "Fold 8 train: (206803, 22)\n",
      "Fold 8 test: (22978, 22)\n",
      "Fold 9 train: (206803, 22)\n",
      "Fold 9 test: (22978, 22)\n",
      "Fold 10 train: (206803, 22)\n",
      "Fold 10 test: (22978, 22)\n"
     ]
    }
   ],
   "source": [
    "for fold_num, (train_data, test_data) in enumerate(zip(train_datasets, test_datasets),1):\n",
    "    print(f'Fold {fold_num} train: {train_data.shape}')\n",
    "    print(f'Fold {fold_num} test: {test_data.shape}')\n"
   ]
  },
  {
   "cell_type": "code",
   "execution_count": 71,
   "metadata": {},
   "outputs": [
    {
     "data": {
      "text/html": [
       "<div>\n",
       "<style scoped>\n",
       "    .dataframe tbody tr th:only-of-type {\n",
       "        vertical-align: middle;\n",
       "    }\n",
       "\n",
       "    .dataframe tbody tr th {\n",
       "        vertical-align: top;\n",
       "    }\n",
       "\n",
       "    .dataframe thead th {\n",
       "        text-align: right;\n",
       "    }\n",
       "</style>\n",
       "<table border=\"1\" class=\"dataframe\">\n",
       "  <thead>\n",
       "    <tr style=\"text-align: right;\">\n",
       "      <th></th>\n",
       "      <th>HeartDiseaseorAttack</th>\n",
       "      <th>HighBP</th>\n",
       "      <th>HighChol</th>\n",
       "      <th>CholCheck</th>\n",
       "      <th>BMI</th>\n",
       "      <th>Smoker</th>\n",
       "      <th>Stroke</th>\n",
       "      <th>Diabetes</th>\n",
       "      <th>PhysActivity</th>\n",
       "      <th>Fruits</th>\n",
       "      <th>...</th>\n",
       "      <th>AnyHealthcare</th>\n",
       "      <th>NoDocbcCost</th>\n",
       "      <th>GenHlth</th>\n",
       "      <th>MentHlth</th>\n",
       "      <th>PhysHlth</th>\n",
       "      <th>DiffWalk</th>\n",
       "      <th>Sex</th>\n",
       "      <th>Age</th>\n",
       "      <th>Education</th>\n",
       "      <th>Income</th>\n",
       "    </tr>\n",
       "  </thead>\n",
       "  <tbody>\n",
       "    <tr>\n",
       "      <th>0</th>\n",
       "      <td>1</td>\n",
       "      <td>1</td>\n",
       "      <td>1</td>\n",
       "      <td>1</td>\n",
       "      <td>1</td>\n",
       "      <td>1</td>\n",
       "      <td>1</td>\n",
       "      <td>1</td>\n",
       "      <td>1</td>\n",
       "      <td>1</td>\n",
       "      <td>...</td>\n",
       "      <td>1</td>\n",
       "      <td>1</td>\n",
       "      <td>1</td>\n",
       "      <td>1</td>\n",
       "      <td>1</td>\n",
       "      <td>1</td>\n",
       "      <td>1</td>\n",
       "      <td>1</td>\n",
       "      <td>1</td>\n",
       "      <td>1</td>\n",
       "    </tr>\n",
       "    <tr>\n",
       "      <th>1</th>\n",
       "      <td>1</td>\n",
       "      <td>1</td>\n",
       "      <td>1</td>\n",
       "      <td>1</td>\n",
       "      <td>1</td>\n",
       "      <td>1</td>\n",
       "      <td>1</td>\n",
       "      <td>1</td>\n",
       "      <td>1</td>\n",
       "      <td>1</td>\n",
       "      <td>...</td>\n",
       "      <td>1</td>\n",
       "      <td>1</td>\n",
       "      <td>1</td>\n",
       "      <td>1</td>\n",
       "      <td>1</td>\n",
       "      <td>1</td>\n",
       "      <td>1</td>\n",
       "      <td>1</td>\n",
       "      <td>1</td>\n",
       "      <td>1</td>\n",
       "    </tr>\n",
       "    <tr>\n",
       "      <th>2</th>\n",
       "      <td>1</td>\n",
       "      <td>1</td>\n",
       "      <td>1</td>\n",
       "      <td>1</td>\n",
       "      <td>1</td>\n",
       "      <td>1</td>\n",
       "      <td>1</td>\n",
       "      <td>1</td>\n",
       "      <td>1</td>\n",
       "      <td>1</td>\n",
       "      <td>...</td>\n",
       "      <td>1</td>\n",
       "      <td>1</td>\n",
       "      <td>1</td>\n",
       "      <td>1</td>\n",
       "      <td>1</td>\n",
       "      <td>1</td>\n",
       "      <td>1</td>\n",
       "      <td>1</td>\n",
       "      <td>1</td>\n",
       "      <td>1</td>\n",
       "    </tr>\n",
       "    <tr>\n",
       "      <th>3</th>\n",
       "      <td>1</td>\n",
       "      <td>1</td>\n",
       "      <td>1</td>\n",
       "      <td>1</td>\n",
       "      <td>1</td>\n",
       "      <td>1</td>\n",
       "      <td>1</td>\n",
       "      <td>1</td>\n",
       "      <td>1</td>\n",
       "      <td>1</td>\n",
       "      <td>...</td>\n",
       "      <td>1</td>\n",
       "      <td>1</td>\n",
       "      <td>1</td>\n",
       "      <td>1</td>\n",
       "      <td>1</td>\n",
       "      <td>1</td>\n",
       "      <td>1</td>\n",
       "      <td>1</td>\n",
       "      <td>1</td>\n",
       "      <td>1</td>\n",
       "    </tr>\n",
       "    <tr>\n",
       "      <th>4</th>\n",
       "      <td>1</td>\n",
       "      <td>1</td>\n",
       "      <td>1</td>\n",
       "      <td>1</td>\n",
       "      <td>1</td>\n",
       "      <td>1</td>\n",
       "      <td>1</td>\n",
       "      <td>1</td>\n",
       "      <td>1</td>\n",
       "      <td>1</td>\n",
       "      <td>...</td>\n",
       "      <td>1</td>\n",
       "      <td>1</td>\n",
       "      <td>1</td>\n",
       "      <td>1</td>\n",
       "      <td>1</td>\n",
       "      <td>1</td>\n",
       "      <td>1</td>\n",
       "      <td>1</td>\n",
       "      <td>1</td>\n",
       "      <td>1</td>\n",
       "    </tr>\n",
       "  </tbody>\n",
       "</table>\n",
       "<p>5 rows × 22 columns</p>\n",
       "</div>"
      ],
      "text/plain": [
       "   HeartDiseaseorAttack  HighBP  HighChol  CholCheck  BMI  Smoker  Stroke  \\\n",
       "0                     1       1         1          1    1       1       1   \n",
       "1                     1       1         1          1    1       1       1   \n",
       "2                     1       1         1          1    1       1       1   \n",
       "3                     1       1         1          1    1       1       1   \n",
       "4                     1       1         1          1    1       1       1   \n",
       "\n",
       "   Diabetes  PhysActivity  Fruits  ...  AnyHealthcare  NoDocbcCost  GenHlth  \\\n",
       "0         1             1       1  ...              1            1        1   \n",
       "1         1             1       1  ...              1            1        1   \n",
       "2         1             1       1  ...              1            1        1   \n",
       "3         1             1       1  ...              1            1        1   \n",
       "4         1             1       1  ...              1            1        1   \n",
       "\n",
       "   MentHlth  PhysHlth  DiffWalk  Sex  Age  Education  Income  \n",
       "0         1         1         1    1    1          1       1  \n",
       "1         1         1         1    1    1          1       1  \n",
       "2         1         1         1    1    1          1       1  \n",
       "3         1         1         1    1    1          1       1  \n",
       "4         1         1         1    1    1          1       1  \n",
       "\n",
       "[5 rows x 22 columns]"
      ]
     },
     "execution_count": 71,
     "metadata": {},
     "output_type": "execute_result"
    }
   ],
   "source": [
    "records_to_nan_matrix = pd.DataFrame(1, columns=train_data.columns, index=range(train_data.shape[0]))\n",
    "records_to_nan_matrix.head()"
   ]
  },
  {
   "cell_type": "code",
   "execution_count": 72,
   "metadata": {},
   "outputs": [
    {
     "name": "stdout",
     "output_type": "stream",
     "text": [
      "Number of randomly selected observations: 31020\n"
     ]
    }
   ],
   "source": [
    "unique_numbers = random.sample(range(0, train_data.shape[0] + 1), int(missing_sample_size*train_data.shape[0]))\n",
    "print(f'Number of randomly selected observations: {len(set(unique_numbers))}')"
   ]
  },
  {
   "cell_type": "code",
   "execution_count": 73,
   "metadata": {},
   "outputs": [],
   "source": [
    "features = list(train_data.columns)\n",
    "features.remove(target_col)"
   ]
  },
  {
   "cell_type": "code",
   "execution_count": 74,
   "metadata": {},
   "outputs": [],
   "source": [
    "for index_to_nan in unique_numbers:\n",
    "    sel_columns = random.choice([1,2])\n",
    "    columns_to_add_nans = random.sample(features, sel_columns)\n",
    "\n",
    "    for col_to_nan in columns_to_add_nans:\n",
    "        records_to_nan_matrix.at[index_to_nan, col_to_nan] = np.NaN"
   ]
  },
  {
   "cell_type": "code",
   "execution_count": 75,
   "metadata": {},
   "outputs": [],
   "source": [
    "records_to_nan_matrix.to_csv('foldy/records_to_nan_matrix_15pct.csv', index=False)"
   ]
  },
  {
   "cell_type": "code",
   "execution_count": 76,
   "metadata": {},
   "outputs": [],
   "source": [
    "# Create a directory for the folds if it doesn't exist\n",
    "import os\n",
    "if not os.path.exists('missing_values_folds_15pct'):\n",
    "    os.makedirs('missing_values_folds_15pct')"
   ]
  },
  {
   "cell_type": "code",
   "execution_count": 77,
   "metadata": {},
   "outputs": [],
   "source": [
    "for fold_num, (train_data, test_data) in enumerate(zip(train_datasets, test_datasets),1):\n",
    "    train_data_with_nans = train_data * records_to_nan_matrix\n",
    "\n",
    "    # Save each fold as a CSV file\n",
    "    train_data_with_nans.to_csv(f'missing_values_folds_15pct/fold_{fold_num}_train.csv', index=False)\n",
    "    test_data.to_csv(f'missing_values_folds_15pct/fold_{fold_num}_test.csv', index=False)"
   ]
  },
  {
   "cell_type": "code",
   "execution_count": null,
   "metadata": {},
   "outputs": [],
   "source": [
    "# for fold_num, (train_data, test_data) in enumerate(zip(train_datasets, test_datasets),1):\n",
    "\n",
    "#     if fold_num == 1:\n",
    "#         patients_to_nan = train_data.sample(frac=missing_sample_size, random_state=42, ignore_index=True)\n",
    "#         features = list(train_data.columns)\n",
    "#         features.remove(target_col)\n",
    "\n",
    "# patients_to_nan.to_csv(f'folds/naned/patients_to_nan_train.csv', index=False)\n",
    "\n",
    "\n",
    "# patient_nan_features_dict = {}\n",
    "# for patient_idx, patient_row in patients_to_nan.iterrows():\n",
    "#     # select how many features and which ones will be NaNed out for a patient idx\n",
    "#     sel_columns = random.choice([1,2])\n",
    "#     columns_to_add_nans = random.sample(features, sel_columns)\n",
    "#     patient_nan_features_dict[patient_idx] = columns_to_add_nans    "
   ]
  },
  {
   "cell_type": "code",
   "execution_count": null,
   "metadata": {},
   "outputs": [],
   "source": [
    "# patient_nan_dict = patients_to_nan.to_dict(orient='index')"
   ]
  },
  {
   "cell_type": "code",
   "execution_count": null,
   "metadata": {},
   "outputs": [],
   "source": [
    "# # for every fold find that patient in train data and if exists - NaN out some features\n",
    "# for fold_num, (train_data, test_data) in enumerate(zip(train_datasets, test_datasets),1):\n",
    "\n",
    "#     for ft_idx, ft_row in train_data.iterrows():\n",
    "\n",
    "#         for patient_idx, patient_row in patient_nan_dict.items():\n",
    "\n",
    "#             if patient_row == ft_row.to_dict():\n",
    "#                 # print(f'Found a patient in train set in fold {fold_num} -> imputing NaN in {columns_to_add_nans} columns')        \n",
    "#                 for col in patient_nan_features_dict[patient_idx]:\n",
    "#                     train_data.at[ft_idx, col] = np.NaN\n",
    "#             # patients are unique (dataframe has no duplicates) - so once one patient is found in one folds' training set, the search in that fold can be finished\n",
    "#             # break\n",
    "#     print(f'Fold {fold_num} finished successfully')\n",
    "#     # Save each fold as a CSV file\n",
    "#     train_data.to_csv(f'folds/naned/fold_{fold_num}_train.csv', index=False)\n",
    "#     test_data.to_csv(f'folds/naned/fold_{fold_num}_test.csv', index=False)\n",
    "\n"
   ]
  },
  {
   "cell_type": "code",
   "execution_count": null,
   "metadata": {},
   "outputs": [],
   "source": []
  }
 ],
 "metadata": {
  "kernelspec": {
   "display_name": "magisterka",
   "language": "python",
   "name": "python3"
  },
  "language_info": {
   "codemirror_mode": {
    "name": "ipython",
    "version": 3
   },
   "file_extension": ".py",
   "mimetype": "text/x-python",
   "name": "python",
   "nbconvert_exporter": "python",
   "pygments_lexer": "ipython3",
   "version": "3.9.16"
  },
  "orig_nbformat": 4
 },
 "nbformat": 4,
 "nbformat_minor": 2
}
