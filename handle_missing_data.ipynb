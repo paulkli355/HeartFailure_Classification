{
 "cells": [
  {
   "cell_type": "code",
   "execution_count": null,
   "metadata": {},
   "outputs": [],
   "source": [
    "import pandas as pd\n",
    "import numpy as np\n",
    "import random"
   ]
  },
  {
   "cell_type": "code",
   "execution_count": null,
   "metadata": {},
   "outputs": [],
   "source": [
    "n_splits=10\n",
    "target_col = \"HeartDiseaseorAttack\"\n",
    "missing_sample_size = 0.05"
   ]
  },
  {
   "cell_type": "code",
   "execution_count": null,
   "metadata": {},
   "outputs": [],
   "source": [
    "# Read folds that are available\n",
    "# Create empty lists to store train and test DataFrames\n",
    "train_datasets = []\n",
    "test_datasets = []\n",
    "\n",
    "for fold_num in range(1, n_splits+1):\n",
    "    train_file_path = f\"folds/fold_{fold_num}_train.csv\"\n",
    "    test_file_path = f\"folds/fold_{fold_num}_test.csv\"\n",
    "    \n",
    "    # Load the train and test fold data into DataFrames\n",
    "    train_fold = pd.read_csv(train_file_path)\n",
    "    test_fold = pd.read_csv(test_file_path)\n",
    "    \n",
    "    train_datasets.append(train_fold)\n",
    "    test_datasets.append(test_fold)\n",
    "print(\"Folds data were loaded successfully!\")"
   ]
  },
  {
   "cell_type": "code",
   "execution_count": null,
   "metadata": {},
   "outputs": [],
   "source": [
    "for fold_num, (train_data, test_data) in enumerate(zip(train_datasets, test_datasets),1):\n",
    "\n",
    "    if fold_num == 1:\n",
    "        patients_to_nan = train_data.sample(frac=missing_sample_size, random_state=42, ignore_index=True)\n",
    "        features = list(train_data.columns)\n",
    "        features.remove(target_col)\n",
    "\n",
    "patients_to_nan.to_csv(f'folds/naned/patients_to_nan_train.csv', index=False)\n",
    "\n",
    "\n",
    "patient_nan_features_dict = {}\n",
    "for patient_idx, patient_row in patients_to_nan.iterrows():\n",
    "    # select how many features and which ones will be NaNed out for a patient idx\n",
    "    sel_columns = random.choice([1,2])\n",
    "    columns_to_add_nans = random.sample(features, sel_columns)\n",
    "    patient_nan_features_dict[patient_idx] = columns_to_add_nans    "
   ]
  },
  {
   "cell_type": "code",
   "execution_count": null,
   "metadata": {},
   "outputs": [],
   "source": [
    "patient_nan_dict = patients_to_nan.to_dict(orient='index')"
   ]
  },
  {
   "cell_type": "code",
   "execution_count": null,
   "metadata": {},
   "outputs": [],
   "source": [
    "# for every fold find that patient in train data and if exists - NaN out some features\n",
    "for fold_num, (train_data, test_data) in enumerate(zip(train_datasets, test_datasets),1):\n",
    "\n",
    "    for ft_idx, ft_row in train_data.iterrows():\n",
    "\n",
    "        for patient_idx, patient_row in patient_nan_dict.items():\n",
    "\n",
    "            if patient_row == ft_row.to_dict():\n",
    "                # print(f'Found a patient in train set in fold {fold_num} -> imputing NaN in {columns_to_add_nans} columns')        \n",
    "                for col in patient_nan_features_dict[patient_idx]:\n",
    "                    train_data.at[ft_idx, col] = np.NaN\n",
    "            # patients are unique (dataframe has no duplicates) - so once one patient is found in one folds' training set, the search in that fold can be finished\n",
    "            # break\n",
    "    print(f'Fold {fold_num} finished successfully')\n",
    "    # Save each fold as a CSV file\n",
    "    train_data.to_csv(f'folds/naned/fold_{fold_num}_train.csv', index=False)\n",
    "    test_data.to_csv(f'folds/naned/fold_{fold_num}_test.csv', index=False)\n",
    "\n"
   ]
  },
  {
   "cell_type": "code",
   "execution_count": null,
   "metadata": {},
   "outputs": [],
   "source": []
  }
 ],
 "metadata": {
  "kernelspec": {
   "display_name": "magisterka",
   "language": "python",
   "name": "python3"
  },
  "language_info": {
   "codemirror_mode": {
    "name": "ipython",
    "version": 3
   },
   "file_extension": ".py",
   "mimetype": "text/x-python",
   "name": "python",
   "nbconvert_exporter": "python",
   "pygments_lexer": "ipython3",
   "version": "3.12.0"
  },
  "orig_nbformat": 4
 },
 "nbformat": 4,
 "nbformat_minor": 2
}
